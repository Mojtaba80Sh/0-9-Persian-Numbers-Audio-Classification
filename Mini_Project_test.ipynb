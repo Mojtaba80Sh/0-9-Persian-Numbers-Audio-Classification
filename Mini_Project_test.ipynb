{
  "nbformat": 4,
  "nbformat_minor": 0,
  "metadata": {
    "colab": {
      "provenance": []
    },
    "kernelspec": {
      "name": "python3",
      "display_name": "Python 3"
    },
    "language_info": {
      "name": "python"
    }
  },
  "cells": [
    {
      "cell_type": "code",
      "execution_count": null,
      "metadata": {
        "id": "ow3KFFwvqV3r"
      },
      "outputs": [],
      "source": [
        "import tensorflow as tf\n",
        "from scipy.io import wavfile\n",
        "import os\n",
        "import scipy.signal as sps\n",
        "import numpy as np\n",
        "import IPython\n",
        "import librosa"
      ]
    },
    {
      "cell_type": "code",
      "source": [
        "model_path = '/content/drive/MyDrive/Models/Persian_Numbers_Model3.keras'\n",
        "class_names = np.arange(0, 10, dtype='int')\n",
        "class_names"
      ],
      "metadata": {
        "id": "vMSjHwRNcj9s",
        "colab": {
          "base_uri": "https://localhost:8080/"
        },
        "outputId": "b051068a-d513-41f5-c34c-811c712d70cf"
      },
      "execution_count": null,
      "outputs": [
        {
          "output_type": "execute_result",
          "data": {
            "text/plain": [
              "array([0, 1, 2, 3, 4, 5, 6, 7, 8, 9])"
            ]
          },
          "metadata": {},
          "execution_count": 5
        }
      ]
    },
    {
      "cell_type": "code",
      "source": [
        "model = tf.keras.models.load_model(model_path)"
      ],
      "metadata": {
        "id": "CjVDf4W7qiZ9"
      },
      "execution_count": null,
      "outputs": []
    },
    {
      "cell_type": "code",
      "source": [
        "tf.reduce_mean([[1., 2.], [2., 4.]], axis=1)"
      ],
      "metadata": {
        "colab": {
          "base_uri": "https://localhost:8080/"
        },
        "id": "rS6riFIci5FN",
        "outputId": "875694f4-61c9-46fe-f19d-b35a6d600620"
      },
      "execution_count": null,
      "outputs": [
        {
          "output_type": "execute_result",
          "data": {
            "text/plain": [
              "<tf.Tensor: shape=(2,), dtype=float32, numpy=array([1.5, 3. ], dtype=float32)>"
            ]
          },
          "metadata": {},
          "execution_count": 34
        }
      ]
    },
    {
      "cell_type": "code",
      "source": [
        "def predict_voice(wave_adr):\n",
        "  wave, _ = librosa.load(wave_adr, sr=16000)\n",
        "  spectrogram = tf.signal.stft(wave, frame_length = 256, frame_step = 128)\n",
        "  spectrogram = tf.abs(spectrogram)\n",
        "  spectrogram = spectrogram[tf.newaxis, ..., tf.newaxis]\n",
        "  prediction = np.argmax(model.predict(spectrogram))\n",
        "  return class_names[prediction]"
      ],
      "metadata": {
        "id": "gzkEOIYrtwP2"
      },
      "execution_count": null,
      "outputs": []
    },
    {
      "cell_type": "code",
      "source": [
        "Audios_path = \"/content/drive/MyDrive/Audios\"\n",
        "files = os.listdir(Audios_path)\n",
        "audios = {}\n",
        "for i in files[:200]:\n",
        "  if i.endswith(\".wav\") :\n",
        "    audios[i] = wavfile.read(Audios_path + '/' + i)"
      ],
      "metadata": {
        "id": "-AtYi79d3Lk7"
      },
      "execution_count": null,
      "outputs": []
    },
    {
      "cell_type": "code",
      "source": [
        "files = list(audios.keys())"
      ],
      "metadata": {
        "id": "7TVwuobErok3"
      },
      "execution_count": null,
      "outputs": []
    },
    {
      "cell_type": "code",
      "source": [
        "for file in files:\n",
        "  pred = predict_voice(Audios_path + '/' + file)\n",
        "  print(f\"File: {file}\", f\"Pred: {pred}\")"
      ],
      "metadata": {
        "colab": {
          "base_uri": "https://localhost:8080/"
        },
        "id": "FdVEwZFVK-Y6",
        "outputId": "25d4d7dd-3d62-4e8a-e463-89a3af750e9a"
      },
      "execution_count": null,
      "outputs": [
        {
          "output_type": "stream",
          "name": "stdout",
          "text": [
            "1/1 [==============================] - 1s 587ms/step\n",
            "File: 1.3.wav Pred: 1\n",
            "1/1 [==============================] - 1s 570ms/step\n",
            "File: 1.2.wav Pred: 1\n",
            "1/1 [==============================] - 1s 571ms/step\n",
            "File: 1.1.wav Pred: 1\n",
            "1/1 [==============================] - 1s 607ms/step\n",
            "File: 0.wav Pred: 0\n",
            "1/1 [==============================] - 1s 588ms/step\n",
            "File: 3.wav Pred: 3\n",
            "1/1 [==============================] - 1s 547ms/step\n",
            "File: 3.2.wav Pred: 3\n",
            "1/1 [==============================] - 1s 576ms/step\n",
            "File: 3.1.wav Pred: 3\n",
            "1/1 [==============================] - 1s 613ms/step\n",
            "File: 2.3.wav Pred: 2\n",
            "1/1 [==============================] - 1s 614ms/step\n",
            "File: 2.2.wav Pred: 2\n",
            "1/1 [==============================] - 1s 549ms/step\n",
            "File: 2.1.wav Pred: 2\n",
            "1/1 [==============================] - 1s 586ms/step\n",
            "File: 1.wav Pred: 1\n"
          ]
        }
      ]
    }
  ]
}