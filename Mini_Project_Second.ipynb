{
  "nbformat": 4,
  "nbformat_minor": 0,
  "metadata": {
    "colab": {
      "provenance": [],
      "gpuType": "T4"
    },
    "kernelspec": {
      "name": "python3",
      "display_name": "Python 3"
    },
    "language_info": {
      "name": "python"
    },
    "accelerator": "GPU"
  },
  "cells": [
    {
      "cell_type": "code",
      "execution_count": null,
      "metadata": {
        "id": "adjoaiETgXil"
      },
      "outputs": [],
      "source": [
        "import tensorflow as tf\n",
        "from tensorflow import keras\n",
        "import numpy as np\n",
        "from tensorflow.keras import layers\n",
        "import os\n",
        "import shutil"
      ]
    },
    {
      "cell_type": "code",
      "source": [
        "from google.colab import drive\n",
        "drive.mount('/content/drive')"
      ],
      "metadata": {
        "colab": {
          "base_uri": "https://localhost:8080/"
        },
        "id": "IvVtMBJYYKzS",
        "outputId": "f0f9143a-36f6-4a6a-b540-e114ded2d617"
      },
      "execution_count": null,
      "outputs": [
        {
          "output_type": "stream",
          "name": "stdout",
          "text": [
            "Drive already mounted at /content/drive; to attempt to forcibly remount, call drive.mount(\"/content/drive\", force_remount=True).\n"
          ]
        }
      ]
    },
    {
      "cell_type": "code",
      "source": [
        "!unrar x \"/content/drive/MyDrive/Train.rar\" -idq"
      ],
      "metadata": {
        "id": "0X9EMgfv7DAX",
        "collapsed": true
      },
      "execution_count": null,
      "outputs": []
    },
    {
      "cell_type": "code",
      "source": [
        "def categorize_numbers(path):\n",
        "\n",
        "  for i in range(10):                           #sakhtane folder ha\n",
        "    if not os.path.exists( path + '/' + str(i) ):\n",
        "      os.makedirs(path + '/' + str(i))\n",
        "  files = os.listdir(path)\n",
        "\n",
        "  for file in files:                             # enteghale file ha be folder ha\n",
        "    if file.endswith('v'):\n",
        "      file_path = os.path.join(path, file)\n",
        "      new_path = path + '/' + file[0] + '/' + file\n",
        "      os.replace(file_path, new_path)"
      ],
      "metadata": {
        "id": "oCfgCvw8BU4F"
      },
      "execution_count": null,
      "outputs": []
    },
    {
      "cell_type": "code",
      "source": [
        "categorize_numbers(\"/content/Train\")"
      ],
      "metadata": {
        "id": "W1Fmjzq7Cnpu"
      },
      "execution_count": null,
      "outputs": []
    },
    {
      "cell_type": "code",
      "source": [
        "path = \"/content/Train\"\n",
        "seed = 5\n",
        "batch = 60\n",
        "train_dt, valid_dt = tf.keras.utils.audio_dataset_from_directory(path, validation_split=0.13 ,subset=\"both\", seed=seed, batch_size= batch)\n",
        "train_dt.class_names"
      ],
      "metadata": {
        "id": "dXF7tHlHhbxs",
        "colab": {
          "base_uri": "https://localhost:8080/"
        },
        "outputId": "0fd3dbfe-7691-4bd4-969a-756ac337f798"
      },
      "execution_count": null,
      "outputs": [
        {
          "output_type": "stream",
          "name": "stdout",
          "text": [
            "Found 15762 files belonging to 10 classes.\n",
            "Using 13713 files for training.\n",
            "Using 2049 files for validation.\n"
          ]
        },
        {
          "output_type": "execute_result",
          "data": {
            "text/plain": [
              "['0', '1', '2', '3', '4', '5', '6', '7', '8', '9']"
            ]
          },
          "metadata": {},
          "execution_count": 2
        }
      ]
    },
    {
      "cell_type": "code",
      "source": [
        "def squeeze_by_avg(audio, labels):\n",
        "  audio = tf.math.reduce_mean(audio, 2)\n",
        "  return audio, labels"
      ],
      "metadata": {
        "id": "mxHVfvDuq62K"
      },
      "execution_count": null,
      "outputs": []
    },
    {
      "cell_type": "code",
      "source": [
        "train_dt = train_dt.map(squeeze_by_avg)\n",
        "valid_dt = valid_dt.map(squeeze_by_avg)"
      ],
      "metadata": {
        "id": "2e_wYJ2oSiux"
      },
      "execution_count": null,
      "outputs": []
    },
    {
      "cell_type": "code",
      "source": [
        "a, b = next(iter(train_dt))\n",
        "np.shape(a)"
      ],
      "metadata": {
        "id": "g5clyewcyGD2",
        "colab": {
          "base_uri": "https://localhost:8080/"
        },
        "outputId": "0408019a-870e-4097-c464-472e725ae273"
      },
      "execution_count": null,
      "outputs": [
        {
          "output_type": "execute_result",
          "data": {
            "text/plain": [
              "TensorShape([60, 78992])"
            ]
          },
          "metadata": {},
          "execution_count": 5
        }
      ]
    },
    {
      "cell_type": "code",
      "source": [
        "def get_spectogram(voice, label):\n",
        "  frame_length = 256\n",
        "  frame_step = 128\n",
        "  spect = tf.signal.stft(voice, frame_length= frame_length, frame_step= frame_step)\n",
        "  spect = tf.abs(spect)\n",
        "  spect = spect[... , tf.newaxis]\n",
        "  return spect, label"
      ],
      "metadata": {
        "id": "n_DXfCxRiYZq"
      },
      "execution_count": null,
      "outputs": []
    },
    {
      "cell_type": "code",
      "source": [
        "train_dt = train_dt.map(get_spectogram).cache().prefetch(buffer_size=tf.data.AUTOTUNE)\n",
        "valid_dt = valid_dt.map(get_spectogram).cache().prefetch(buffer_size=tf.data.AUTOTUNE)"
      ],
      "metadata": {
        "id": "9c-KEyPwj2wO"
      },
      "execution_count": null,
      "outputs": []
    },
    {
      "cell_type": "code",
      "source": [
        "a, b = next(iter(valid_dt))\n",
        "print(np.shape(a))\n",
        "np.shape(b)"
      ],
      "metadata": {
        "id": "FVm4dE-Q08NP",
        "colab": {
          "base_uri": "https://localhost:8080/"
        },
        "outputId": "eb192431-5247-418e-b65b-acea1d35e502"
      },
      "execution_count": null,
      "outputs": [
        {
          "output_type": "stream",
          "name": "stdout",
          "text": [
            "(60, 557, 129, 1)\n"
          ]
        },
        {
          "output_type": "execute_result",
          "data": {
            "text/plain": [
              "TensorShape([60])"
            ]
          },
          "metadata": {},
          "execution_count": 8
        }
      ]
    },
    {
      "cell_type": "code",
      "source": [
        "a, b = next(iter(train_dt))\n",
        "print(np.shape(a))\n",
        "np.shape(b)"
      ],
      "metadata": {
        "id": "8fcwrJLLCN1J",
        "colab": {
          "base_uri": "https://localhost:8080/"
        },
        "outputId": "c6d6dace-14e8-446d-a421-f86d38813c28"
      },
      "execution_count": null,
      "outputs": [
        {
          "output_type": "stream",
          "name": "stdout",
          "text": [
            "(60, 727, 129, 1)\n"
          ]
        },
        {
          "output_type": "execute_result",
          "data": {
            "text/plain": [
              "TensorShape([60])"
            ]
          },
          "metadata": {},
          "execution_count": 9
        }
      ]
    },
    {
      "cell_type": "code",
      "source": [
        "Conv_kernel_size = (4,4)\n",
        "strides = (2, 2)"
      ],
      "metadata": {
        "id": "7ND8RgBayshO"
      },
      "execution_count": null,
      "outputs": []
    },
    {
      "cell_type": "code",
      "source": [
        "img_width = 256\n",
        "img_height = 129\n",
        "model = tf.keras.models.Sequential([\n",
        "\n",
        "    layers.Resizing(img_width, img_height),\n",
        "    layers.Normalization(),\n",
        "\n",
        "    layers.Conv2D(256, Conv_kernel_size, padding = \"same\", activation = 'relu'),\n",
        "    layers.MaxPool2D(),  #1\n",
        "    layers.Dropout(0.3),\n",
        "    layers.Conv2D(256, Conv_kernel_size, padding = \"same\", activation = 'relu'),\n",
        "    layers.MaxPool2D(),  #2\n",
        "    layers.Dropout(0.3),\n",
        "    layers.Conv2D(256, Conv_kernel_size, padding = \"same\", activation = 'relu'),\n",
        "    layers.MaxPool2D(),  #3\n",
        "    layers.Dropout(0.3),\n",
        "    layers.Conv2D(128, Conv_kernel_size, padding = \"same\", activation = 'relu'),\n",
        "    layers.MaxPool2D(),  #4\n",
        "    layers.Dropout(0.3),\n",
        "    layers.Conv2D(128, Conv_kernel_size, padding = \"same\", activation = 'relu'),\n",
        "    layers.MaxPool2D(),  #5\n",
        "    layers.Dropout(0.3),\n",
        "\n",
        "    layers.Reshape((img_width//32, (img_height//32)*128)),\n",
        "\n",
        "    layers.Bidirectional(layers.GRU(512, dropout=0.5)),\n",
        "\n",
        "    layers.Dense(256, activation=\"relu\"),\n",
        "    layers.Dropout(0.3),\n",
        "    layers.Dense(256, activation=\"relu\"),\n",
        "    layers.Dropout(0.3),\n",
        "\n",
        "    layers.Dense(10)\n",
        "])"
      ],
      "metadata": {
        "id": "WwEgDualkDne"
      },
      "execution_count": null,
      "outputs": []
    },
    {
      "cell_type": "code",
      "source": [
        "model.summary()"
      ],
      "metadata": {
        "colab": {
          "base_uri": "https://localhost:8080/"
        },
        "id": "egHxPXTXhVOG",
        "outputId": "25fbd3fa-557b-4136-bff4-41863b257b8d"
      },
      "execution_count": null,
      "outputs": [
        {
          "output_type": "stream",
          "name": "stdout",
          "text": [
            "Model: \"sequential_2\"\n",
            "_________________________________________________________________\n",
            " Layer (type)                Output Shape              Param #   \n",
            "=================================================================\n",
            " resizing_2 (Resizing)       (None, 256, 129, 1)       0         \n",
            "                                                                 \n",
            " normalization_2 (Normaliza  (None, 256, 129, 1)       3         \n",
            " tion)                                                           \n",
            "                                                                 \n",
            " conv2d_9 (Conv2D)           (None, 256, 129, 256)     4352      \n",
            "                                                                 \n",
            " max_pooling2d_9 (MaxPoolin  (None, 128, 64, 256)      0         \n",
            " g2D)                                                            \n",
            "                                                                 \n",
            " dropout_13 (Dropout)        (None, 128, 64, 256)      0         \n",
            "                                                                 \n",
            " conv2d_10 (Conv2D)          (None, 128, 64, 256)      1048832   \n",
            "                                                                 \n",
            " max_pooling2d_10 (MaxPooli  (None, 64, 32, 256)       0         \n",
            " ng2D)                                                           \n",
            "                                                                 \n",
            " dropout_14 (Dropout)        (None, 64, 32, 256)       0         \n",
            "                                                                 \n",
            " conv2d_11 (Conv2D)          (None, 64, 32, 256)       1048832   \n",
            "                                                                 \n",
            " max_pooling2d_11 (MaxPooli  (None, 32, 16, 256)       0         \n",
            " ng2D)                                                           \n",
            "                                                                 \n",
            " dropout_15 (Dropout)        (None, 32, 16, 256)       0         \n",
            "                                                                 \n",
            " conv2d_12 (Conv2D)          (None, 32, 16, 128)       524416    \n",
            "                                                                 \n",
            " max_pooling2d_12 (MaxPooli  (None, 16, 8, 128)        0         \n",
            " ng2D)                                                           \n",
            "                                                                 \n",
            " dropout_16 (Dropout)        (None, 16, 8, 128)        0         \n",
            "                                                                 \n",
            " conv2d_13 (Conv2D)          (None, 16, 8, 128)        262272    \n",
            "                                                                 \n",
            " max_pooling2d_13 (MaxPooli  (None, 8, 4, 128)         0         \n",
            " ng2D)                                                           \n",
            "                                                                 \n",
            " dropout_17 (Dropout)        (None, 8, 4, 128)         0         \n",
            "                                                                 \n",
            " reshape_2 (Reshape)         (None, 8, 512)            0         \n",
            "                                                                 \n",
            " bidirectional_2 (Bidirecti  (None, 1024)              3151872   \n",
            " onal)                                                           \n",
            "                                                                 \n",
            " dense_6 (Dense)             (None, 256)               262400    \n",
            "                                                                 \n",
            " dropout_18 (Dropout)        (None, 256)               0         \n",
            "                                                                 \n",
            " dense_7 (Dense)             (None, 256)               65792     \n",
            "                                                                 \n",
            " dropout_19 (Dropout)        (None, 256)               0         \n",
            "                                                                 \n",
            " dense_8 (Dense)             (None, 10)                2570      \n",
            "                                                                 \n",
            "=================================================================\n",
            "Total params: 6371341 (24.30 MB)\n",
            "Trainable params: 6371338 (24.30 MB)\n",
            "Non-trainable params: 3 (16.00 Byte)\n",
            "_________________________________________________________________\n"
          ]
        }
      ]
    },
    {
      "cell_type": "code",
      "source": [
        "model.compile(optimizer= tf.keras.optimizers.Adam(),\n",
        "              loss=tf.keras.losses.SparseCategoricalCrossentropy(from_logits=True),\n",
        "              metrics=['accuracy'])"
      ],
      "metadata": {
        "id": "my39bUzipmhx"
      },
      "execution_count": null,
      "outputs": []
    },
    {
      "cell_type": "code",
      "source": [
        "red_lr = keras.callbacks.ReduceLROnPlateau(\n",
        "                                          monitor=\"val_loss\",\n",
        "                                          factor=0.1,\n",
        "                                          patience=4,\n",
        "                                          mode=\"auto\",\n",
        "                                          min_delta=0.0001,\n",
        "                                          cooldown=0,\n",
        "                                          min_lr=0.0\n",
        "                                          )"
      ],
      "metadata": {
        "id": "KqrMu88HOpr0"
      },
      "execution_count": null,
      "outputs": []
    },
    {
      "cell_type": "code",
      "source": [
        "model.fit(train_dt,\n",
        "          validation_data = valid_dt,\n",
        "          epochs = 15,\n",
        "          callbacks = [red_lr]\n",
        "          )"
      ],
      "metadata": {
        "id": "uqGp3raL7gxj",
        "colab": {
          "base_uri": "https://localhost:8080/"
        },
        "outputId": "e7a4033c-a7f6-4118-f76d-c6de9aeb74dc"
      },
      "execution_count": null,
      "outputs": [
        {
          "output_type": "stream",
          "name": "stdout",
          "text": [
            "Epoch 1/15\n",
            "229/229 [==============================] - 319s 1s/step - loss: 1.7091 - accuracy: 0.3519 - val_loss: 1.1346 - val_accuracy: 0.5647 - lr: 0.0010\n",
            "Epoch 2/15\n",
            "229/229 [==============================] - 261s 1s/step - loss: 1.1495 - accuracy: 0.5520 - val_loss: 0.8702 - val_accuracy: 0.6554 - lr: 0.0010\n",
            "Epoch 3/15\n",
            "229/229 [==============================] - 261s 1s/step - loss: 0.9025 - accuracy: 0.6596 - val_loss: 0.7449 - val_accuracy: 0.7365 - lr: 0.0010\n",
            "Epoch 4/15\n",
            "229/229 [==============================] - 260s 1s/step - loss: 0.7713 - accuracy: 0.7168 - val_loss: 0.5964 - val_accuracy: 0.7828 - lr: 0.0010\n",
            "Epoch 5/15\n",
            "229/229 [==============================] - 260s 1s/step - loss: 0.6755 - accuracy: 0.7522 - val_loss: 0.5494 - val_accuracy: 0.8131 - lr: 0.0010\n",
            "Epoch 6/15\n",
            "229/229 [==============================] - 260s 1s/step - loss: 0.5969 - accuracy: 0.7928 - val_loss: 0.4121 - val_accuracy: 0.8546 - lr: 0.0010\n",
            "Epoch 7/15\n",
            "229/229 [==============================] - 260s 1s/step - loss: 0.5441 - accuracy: 0.8081 - val_loss: 0.4160 - val_accuracy: 0.8536 - lr: 0.0010\n",
            "Epoch 8/15\n",
            "229/229 [==============================] - 263s 1s/step - loss: 0.5129 - accuracy: 0.8214 - val_loss: 0.4123 - val_accuracy: 0.8516 - lr: 0.0010\n",
            "Epoch 9/15\n",
            "229/229 [==============================] - 260s 1s/step - loss: 0.4822 - accuracy: 0.8335 - val_loss: 0.3647 - val_accuracy: 0.8712 - lr: 0.0010\n",
            "Epoch 10/15\n",
            "229/229 [==============================] - 263s 1s/step - loss: 0.4543 - accuracy: 0.8415 - val_loss: 0.3522 - val_accuracy: 0.8765 - lr: 0.0010\n",
            "Epoch 11/15\n",
            "229/229 [==============================] - 259s 1s/step - loss: 0.4383 - accuracy: 0.8490 - val_loss: 0.3380 - val_accuracy: 0.8834 - lr: 0.0010\n",
            "Epoch 12/15\n",
            "229/229 [==============================] - 259s 1s/step - loss: 0.4327 - accuracy: 0.8533 - val_loss: 0.3646 - val_accuracy: 0.8755 - lr: 0.0010\n",
            "Epoch 13/15\n",
            "229/229 [==============================] - 258s 1s/step - loss: 0.4012 - accuracy: 0.8610 - val_loss: 0.3528 - val_accuracy: 0.8755 - lr: 0.0010\n",
            "Epoch 14/15\n",
            "229/229 [==============================] - 258s 1s/step - loss: 0.3801 - accuracy: 0.8697 - val_loss: 0.2844 - val_accuracy: 0.9014 - lr: 0.0010\n",
            "Epoch 15/15\n",
            "229/229 [==============================] - 258s 1s/step - loss: 0.3712 - accuracy: 0.8705 - val_loss: 0.2733 - val_accuracy: 0.9063 - lr: 0.0010\n"
          ]
        },
        {
          "output_type": "execute_result",
          "data": {
            "text/plain": [
              "<keras.src.callbacks.History at 0x7a7d2d5257b0>"
            ]
          },
          "metadata": {},
          "execution_count": 14
        }
      ]
    },
    {
      "cell_type": "code",
      "source": [
        "model.compile(optimizer= tf.keras.optimizers.Adam(0.0001),\n",
        "              loss=tf.keras.losses.SparseCategoricalCrossentropy(from_logits=True),\n",
        "              metrics=['accuracy'])\n",
        "\n",
        "model.fit(train_dt,\n",
        "          validation_data = valid_dt,\n",
        "          epochs = 5\n",
        "          )"
      ],
      "metadata": {
        "id": "7zqMLk8rkbHe",
        "colab": {
          "base_uri": "https://localhost:8080/"
        },
        "outputId": "ec606863-9b1b-4866-bf0c-0df03c5f583c"
      },
      "execution_count": null,
      "outputs": [
        {
          "output_type": "stream",
          "name": "stdout",
          "text": [
            "Epoch 1/5\n",
            "229/229 [==============================] - 265s 1s/step - loss: 0.2842 - accuracy: 0.9026 - val_loss: 0.2387 - val_accuracy: 0.9200\n",
            "Epoch 2/5\n",
            "229/229 [==============================] - 258s 1s/step - loss: 0.2598 - accuracy: 0.9083 - val_loss: 0.2295 - val_accuracy: 0.9219\n",
            "Epoch 3/5\n",
            "229/229 [==============================] - 258s 1s/step - loss: 0.2408 - accuracy: 0.9159 - val_loss: 0.2173 - val_accuracy: 0.9331\n",
            "Epoch 4/5\n",
            "229/229 [==============================] - 259s 1s/step - loss: 0.2247 - accuracy: 0.9196 - val_loss: 0.2152 - val_accuracy: 0.9317\n",
            "Epoch 5/5\n",
            "229/229 [==============================] - 263s 1s/step - loss: 0.2183 - accuracy: 0.9245 - val_loss: 0.2123 - val_accuracy: 0.9361\n"
          ]
        },
        {
          "output_type": "execute_result",
          "data": {
            "text/plain": [
              "<keras.src.callbacks.History at 0x7a7caeeafdf0>"
            ]
          },
          "metadata": {},
          "execution_count": 15
        }
      ]
    },
    {
      "cell_type": "code",
      "source": [
        "model.compile(optimizer= tf.keras.optimizers.Adam(0.0001),\n",
        "              loss=tf.keras.losses.SparseCategoricalCrossentropy(from_logits=True),\n",
        "              metrics=['accuracy'])\n",
        "\n",
        "model.fit(train_dt,\n",
        "          validation_data = valid_dt,\n",
        "          epochs = 5\n",
        "          )"
      ],
      "metadata": {
        "colab": {
          "base_uri": "https://localhost:8080/"
        },
        "id": "it6v0tOJoZpy",
        "outputId": "424cdd1b-d866-4331-bcde-dfff8cf5cf34"
      },
      "execution_count": null,
      "outputs": [
        {
          "output_type": "stream",
          "name": "stdout",
          "text": [
            "Epoch 1/5\n",
            "229/229 [==============================] - 269s 1s/step - loss: 0.2187 - accuracy: 0.9250 - val_loss: 0.2106 - val_accuracy: 0.9385\n",
            "Epoch 2/5\n",
            "229/229 [==============================] - 260s 1s/step - loss: 0.2037 - accuracy: 0.9290 - val_loss: 0.2060 - val_accuracy: 0.9380\n",
            "Epoch 3/5\n",
            "229/229 [==============================] - 260s 1s/step - loss: 0.1996 - accuracy: 0.9301 - val_loss: 0.2064 - val_accuracy: 0.9390\n",
            "Epoch 4/5\n",
            "229/229 [==============================] - 259s 1s/step - loss: 0.1903 - accuracy: 0.9333 - val_loss: 0.2076 - val_accuracy: 0.9341\n",
            "Epoch 5/5\n",
            "229/229 [==============================] - 259s 1s/step - loss: 0.1830 - accuracy: 0.9350 - val_loss: 0.2041 - val_accuracy: 0.9414\n"
          ]
        },
        {
          "output_type": "execute_result",
          "data": {
            "text/plain": [
              "<keras.src.callbacks.History at 0x7a7cb335f460>"
            ]
          },
          "metadata": {},
          "execution_count": 36
        }
      ]
    },
    {
      "cell_type": "code",
      "source": [
        "model.fit(train_dt,\n",
        "          validation_data = valid_dt,\n",
        "          epochs = 5\n",
        "          )"
      ],
      "metadata": {
        "colab": {
          "base_uri": "https://localhost:8080/"
        },
        "id": "lz1Mfq7RwFCF",
        "outputId": "48b2b535-80ff-48fa-c7e8-9bcb84c6a64d"
      },
      "execution_count": null,
      "outputs": [
        {
          "output_type": "stream",
          "name": "stdout",
          "text": [
            "Epoch 1/5\n",
            "229/229 [==============================] - 260s 1s/step - loss: 0.1866 - accuracy: 0.9343 - val_loss: 0.2101 - val_accuracy: 0.9380\n",
            "Epoch 2/5\n",
            "229/229 [==============================] - 260s 1s/step - loss: 0.1798 - accuracy: 0.9349 - val_loss: 0.2024 - val_accuracy: 0.9419\n",
            "Epoch 3/5\n",
            "229/229 [==============================] - 260s 1s/step - loss: 0.1755 - accuracy: 0.9391 - val_loss: 0.1927 - val_accuracy: 0.9414\n",
            "Epoch 4/5\n",
            "229/229 [==============================] - 260s 1s/step - loss: 0.1712 - accuracy: 0.9390 - val_loss: 0.2012 - val_accuracy: 0.9405\n",
            "Epoch 5/5\n",
            "229/229 [==============================] - 265s 1s/step - loss: 0.1774 - accuracy: 0.9371 - val_loss: 0.1923 - val_accuracy: 0.9395\n"
          ]
        },
        {
          "output_type": "execute_result",
          "data": {
            "text/plain": [
              "<keras.src.callbacks.History at 0x7a7c90603bb0>"
            ]
          },
          "metadata": {},
          "execution_count": 39
        }
      ]
    },
    {
      "cell_type": "code",
      "source": [
        "model.save_weights(\"/content/drive/MyDrive/Persian_Numbers_Model_Weights.h5\")"
      ],
      "metadata": {
        "id": "6u_dEEAttM2W"
      },
      "execution_count": null,
      "outputs": []
    },
    {
      "cell_type": "code",
      "source": [
        "!unrar x \"/content/drive/MyDrive/Test.rar\" -idq"
      ],
      "metadata": {
        "id": "owjoQJquv4Bb",
        "collapsed": true
      },
      "execution_count": null,
      "outputs": []
    },
    {
      "cell_type": "code",
      "source": [
        "categorize_numbers(\"/content/Test\")"
      ],
      "metadata": {
        "id": "lFOxGDRgwCep"
      },
      "execution_count": null,
      "outputs": []
    },
    {
      "cell_type": "code",
      "source": [
        "path = \"/content/Test\"\n",
        "test_dt = tf.keras.utils.audio_dataset_from_directory(path, seed=seed)\n",
        "class_names = test_dt.class_names\n",
        "test_dt = test_dt.map(squeeze_by_avg)\n",
        "test_dt = test_dt.map(get_spectogram)"
      ],
      "metadata": {
        "colab": {
          "base_uri": "https://localhost:8080/"
        },
        "id": "8jaMoORzwNvp",
        "outputId": "c3f49878-bad0-40bd-b69d-113b595bc2d6"
      },
      "execution_count": null,
      "outputs": [
        {
          "output_type": "stream",
          "name": "stdout",
          "text": [
            "Found 1151 files belonging to 10 classes.\n"
          ]
        }
      ]
    },
    {
      "cell_type": "code",
      "source": [
        "model.evaluate(test_dt)"
      ],
      "metadata": {
        "colab": {
          "base_uri": "https://localhost:8080/"
        },
        "id": "Qzj2usrVwysL",
        "outputId": "fd7660b7-b4ed-484f-a40c-76a52da1aff0"
      },
      "execution_count": null,
      "outputs": [
        {
          "output_type": "stream",
          "name": "stdout",
          "text": [
            "36/36 [==============================] - 4s 102ms/step - loss: 0.3905 - accuracy: 0.8862\n"
          ]
        },
        {
          "output_type": "execute_result",
          "data": {
            "text/plain": [
              "[0.39050087332725525, 0.8861859440803528]"
            ]
          },
          "metadata": {},
          "execution_count": 40
        }
      ]
    },
    {
      "cell_type": "code",
      "source": [
        "y_pred = []  # store predicted labels\n",
        "y_true = []  # store true labels\n",
        "\n",
        "# iterate over the dataset\n",
        "for image_batch, label_batch in test_dt:   # use dataset.unbatch() with repeat\n",
        "   # append true labels\n",
        "   y_true.append(label_batch)\n",
        "   # compute predictions\n",
        "   preds = model.predict(image_batch, verbose=0)\n",
        "   # append predicted labels\n",
        "   y_pred.append(np.argmax(preds, axis = - 1))\n",
        "\n",
        "# convert the true and predicted labels into tensors\n",
        "correct_labels = tf.concat([item for item in y_true], axis = 0)\n",
        "predicted_labels = tf.concat([item for item in y_pred], axis = 0)"
      ],
      "metadata": {
        "id": "lw5k98GWn5rS"
      },
      "execution_count": null,
      "outputs": []
    },
    {
      "cell_type": "code",
      "execution_count": null,
      "metadata": {
        "id": "1VJrt-pnevkn",
        "colab": {
          "base_uri": "https://localhost:8080/",
          "height": 452
        },
        "outputId": "3d3f447d-6607-4fa1-b239-21aba48559d1"
      },
      "outputs": [
        {
          "output_type": "display_data",
          "data": {
            "text/plain": [
              "<Figure size 640x480 with 2 Axes>"
            ],
            "image/png": "[encoded data removed]"
          },
          "metadata": {}
        }
      ],
      "source": [
        "import seaborn as sns\n",
        "import matplotlib.pyplot as plt\n",
        "\n",
        "confusion_mtx = tf.math.confusion_matrix(correct_labels, predicted_labels)\n",
        "sns.heatmap(confusion_mtx, annot=True, fmt='d', cmap='Blues')\n",
        "plt.xlabel('Predicted')\n",
        "plt.ylabel('Actual')\n",
        "plt.xticks(np.arange(len(class_names))+0.5, class_names, rotation=45)\n",
        "plt.yticks(np.arange(len(class_names))+0.5, class_names, rotation=0)\n",
        "plt.show()"
      ]
    }
  ]
}